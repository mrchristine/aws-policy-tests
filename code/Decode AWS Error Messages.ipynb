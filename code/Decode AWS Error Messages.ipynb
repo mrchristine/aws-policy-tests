{
 "cells": [
  {
   "cell_type": "markdown",
   "metadata": {},
   "source": [
    "# Decoding AWS Error Messages\n",
    "Use an instance profile that can use the STS service to decode error messages.  \n",
    "Using a service like [aws-gimme-creds](https://github.com/Nike-Inc/gimme-aws-creds) helps generate temporary credentials that can be used here.  \n",
    "\n",
    "Once you review the response, you'll need to carefully read through the request to understand why the API call / operation was denied. "
   ]
  },
  {
   "cell_type": "code",
   "execution_count": null,
   "metadata": {},
   "outputs": [],
   "source": [
    "# add the encoded error message as string here\n",
    "encoded_msg = \"\"\"\n",
    "some_very_long_encoded_str\n",
    "\"\"\""
   ]
  },
  {
   "cell_type": "code",
   "execution_count": null,
   "metadata": {},
   "outputs": [],
   "source": [
    "import boto3\n",
    "\n",
    "profile = 'default'\n",
    "\n",
    "session = boto3.Session(profile_name=profile)\n",
    "client = session.client(\"sts\")\n",
    "\n",
    "response = client.decode_authorization_message(\n",
    "    EncodedMessage=encoded_msg\n",
    ")"
   ]
  },
  {
   "cell_type": "code",
   "execution_count": null,
   "metadata": {},
   "outputs": [],
   "source": [
    "import json\n",
    "\n",
    "resp_json = json.loads(response['DecodedMessage'])\n",
    "print(json.dumps(resp_json, indent=True))"
   ]
  },
  {
   "cell_type": "code",
   "execution_count": null,
   "metadata": {},
   "outputs": [],
   "source": []
  }
 ],
 "metadata": {
  "kernelspec": {
   "display_name": "Python 3",
   "language": "python",
   "name": "python3"
  },
  "language_info": {
   "codemirror_mode": {
    "name": "ipython",
    "version": 3
   },
   "file_extension": ".py",
   "mimetype": "text/x-python",
   "name": "python",
   "nbconvert_exporter": "python",
   "pygments_lexer": "ipython3",
   "version": "3.6.10"
  }
 },
 "nbformat": 4,
 "nbformat_minor": 4
}
