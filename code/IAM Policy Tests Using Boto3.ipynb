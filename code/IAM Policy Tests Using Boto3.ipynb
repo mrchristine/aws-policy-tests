{
 "cells": [
  {
   "cell_type": "markdown",
   "metadata": {},
   "source": [
    "### IAM Policy Tests with Boto3\n",
    "\n",
    "This notebook shows how to test IAM policy changes against restrictive IAM Policies  \n",
    "\n",
    "The key to this policy is to allow EC2 instances that have the `Vendor:Databricks` tag defined.  \n",
    "There are 2 resources that have this tag, the EBS Volumes and the Instance itself.  \n",
    "You'll need to pass these tags to the `TagSpecifications=` argument with the correct resources. "
   ]
  },
  {
   "cell_type": "code",
   "execution_count": null,
   "metadata": {},
   "outputs": [],
   "source": [
    "import boto3 \n",
    "\n",
    "# set the profile that is defined in the ~/.aws/config file\n",
    "profile = 'iam-dbx-tests'\n",
    "\n",
    "session = boto3.Session(profile_name=profile)\n",
    "ec2=session.client(\"ec2\", region_name='us-east-2')\n",
    "\n",
    "response = ec2.run_instances(\n",
    "    BlockDeviceMappings=[\n",
    "        {\n",
    "            'DeviceName': '/dev/xvda',\n",
    "            'Ebs': {\n",
    "\n",
    "                'DeleteOnTermination': True,\n",
    "                'VolumeSize': 8,\n",
    "                'VolumeType': 'gp2'\n",
    "            },\n",
    "        },\n",
    "    ],\n",
    "    ImageId='ami-09246ddb00c7c4fef',\n",
    "    InstanceType='i3.xlarge',\n",
    "    MaxCount=1,\n",
    "    MinCount=1,\n",
    "    Monitoring={\n",
    "        'Enabled': False\n",
    "    },\n",
    "    KeyName='my-test-key',\n",
    "    \n",
    "    SubnetId='subnet-0xdeadbeef',\n",
    "    \n",
    "    SecurityGroupIds=[\n",
    "        'sg-000foo000bar'\n",
    "    ],\n",
    "    TagSpecifications=[\n",
    "              {\n",
    "                  'ResourceType': 'instance',\n",
    "                  'Tags': [\n",
    "                            {'Key': 'Vendor',\n",
    "                            'Value': 'Databricks'}\n",
    "                      \n",
    "                        ]\n",
    "                },\n",
    "                {\n",
    "                  'ResourceType': 'volume',\n",
    "                  'Tags': [\n",
    "                            {'Key': 'Vendor',\n",
    "                            'Value': 'Databricks'}\n",
    "                        ]\n",
    "                }\n",
    "        ]\n",
    ")\n"
   ]
  },
  {
   "cell_type": "code",
   "execution_count": null,
   "metadata": {},
   "outputs": [],
   "source": [
    "# print the response from RunInstance\n",
    "response"
   ]
  },
  {
   "cell_type": "markdown",
   "metadata": {},
   "source": [
    "### Terminate Instances\n",
    "Attempt to terminate the instance that was just launched using the same boto3 client defined above. "
   ]
  },
  {
   "cell_type": "code",
   "execution_count": null,
   "metadata": {},
   "outputs": [],
   "source": [
    "term_resp = ec2.terminate_instances(\n",
    "    InstanceIds=[\n",
    "        'i-0xdeadbeef',\n",
    "    ]\n",
    ")"
   ]
  },
  {
   "cell_type": "code",
   "execution_count": null,
   "metadata": {},
   "outputs": [],
   "source": [
    "# print the TerminateInstance response\n",
    "term_resp"
   ]
  }
 ],
 "metadata": {
  "kernelspec": {
   "display_name": "Python 3",
   "language": "python",
   "name": "python3"
  },
  "language_info": {
   "codemirror_mode": {
    "name": "ipython",
    "version": 3
   },
   "file_extension": ".py",
   "mimetype": "text/x-python",
   "name": "python",
   "nbconvert_exporter": "python",
   "pygments_lexer": "ipython3",
   "version": "3.6.10"
  }
 },
 "nbformat": 4,
 "nbformat_minor": 4
}
